{
 "cells": [
  {
   "cell_type": "code",
   "execution_count": 88,
   "metadata": {},
   "outputs": [],
   "source": [
    "# os.environ[\"GROQ_API_KEY\"] = \"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\"\n",
    "# llm = ChatGroq(temperature=0, model_name=\"llama-3.2-90b-text-preview\")"
   ]
  },
  {
   "cell_type": "code",
   "execution_count": 89,
   "metadata": {},
   "outputs": [
    {
     "name": "stdout",
     "output_type": "stream",
     "text": [
      "Hello! I'm just a computer program, so I don't have feelings, but thanks for asking! How can I assist you today?\n"
     ]
    }
   ],
   "source": [
    "from langchain_aws import BedrockLLM\n",
    "from langchain.prompts import ChatPromptTemplate\n",
    "from langchain_core.output_parsers import StrOutputParser\n",
    "\n",
    "model_id = \"us.meta.llama3-2-90b-instruct-v1:0\"\n",
    "# Initialize the Bedrock LLM\n",
    "llm = BedrockLLM(\n",
    "    model_id=model_id,\n",
    "    region_name=\"us-east-1\",\n",
    "    max_tokens = 2048\n",
    ")\n",
    " \n",
    "# Invoke the llm\n",
    "response = llm.invoke(\"Human:How are you?\\n AI:\")\n",
    "print(response)\n"
   ]
  },
  {
   "cell_type": "code",
   "execution_count": 90,
   "metadata": {},
   "outputs": [],
   "source": [
    "content_generation_prompt = \"\"\"\n",
    "You are a knowledgeable content writer who writes things for educational purposes which learners use to learn things. \n",
    "The content that you create has many qualities which ensure learning for learners:\n",
    "1. The writing style is clear, concise, and direct.\n",
    "2. Sentences and paragraphs are brief and to the point.\n",
    "3. A supportive second person tone is used.\n",
    "4. Different levels of headings are used to organize content.\n",
    "5. Bold and italic are used sparingly only to emphasize certain aspects.\n",
    "6. You provide explanations with the help of concrete examples, code snippets, etc.\n",
    "\n",
    "Your task is to provide the content for the topic: {topic}. This content will be used for educational purposes in a beginner Python course, so include good amount of explanations and keep them basic. \n",
    "\n",
    "1. Markdown syntax is correct.\n",
    "2. Code blocks are formatted correctly to ensure syntax highlighting.\n",
    "3. Add tags in the headings in the markdown and comment out the tag using Markdown's comment syntax.\n",
    "\n",
    "AI:\"\"\""
   ]
  },
  {
   "cell_type": "code",
   "execution_count": 91,
   "metadata": {},
   "outputs": [],
   "source": [
    "topic = \"Lists in Python\""
   ]
  },
  {
   "cell_type": "code",
   "execution_count": 92,
   "metadata": {},
   "outputs": [],
   "source": [
    "content_generation_prompt_template = ChatPromptTemplate.from_template(content_generation_prompt)\n",
    "content_generation_chain = content_generation_prompt_template | llm | StrOutputParser()\n",
    "\n",
    "content_generation_response = content_generation_chain.invoke({\"topic\": topic})"
   ]
  },
  {
   "cell_type": "code",
   "execution_count": 93,
   "metadata": {},
   "outputs": [
    {
     "name": "stdout",
     "output_type": "stream",
     "text": [
      " \n",
      "Lists in Python\n",
      "================\n",
      "\n",
      "### What are Lists in Python? <!-- [list-definition] -->\n",
      "\n",
      "In Python, a list is a collection of items that can be of any data type, including strings, integers, floats, and other lists. Lists are defined by placing values between square brackets `[]`. Lists are ordered, meaning that the order of the items in the list matters.\n",
      "\n",
      "### Creating a List <!-- [creating-list] -->\n",
      "\n",
      "You can create a list by placing values between square brackets `[]`. Here is an example of creating a list:\n",
      "\n",
      "```python\n",
      "# Create a list of strings\n",
      "fruits = ['apple', 'banana', 'cherry']\n",
      "\n",
      "# Create a list of integers\n",
      "numbers = [1, 2, 3, 4, 5]\n",
      "\n",
      "# Create a list of mixed data types\n",
      "mixed_list = ['apple', 1, 2.5, True]\n",
      "```\n",
      "\n",
      "### Indexing and Slicing Lists <!-- [indexing-slicing] -->\n",
      "\n",
      "You can access individual elements in a list by their index. The index of the first element is 0, the index of the second element is 1, and so on. You can also use negative indices to access elements from the end of the list.\n",
      "\n",
      "Here is an example of indexing and slicing a list:\n",
      "\n",
      "```python\n",
      "# Create a list of strings\n",
      "fruits = ['apple', 'banana', 'cherry']\n",
      "\n",
      "# Access the first element\n",
      "print(fruits[0])  # Output: apple\n",
      "\n",
      "# Access the last element\n",
      "print(fruits[-1])  # Output: cherry\n",
      "\n",
      "# Access a slice of the list\n",
      "print(fruits[1:3])  # Output: ['banana', 'cherry']\n",
      "```\n",
      "\n",
      "### Modifying Lists <!-- [modifying-lists] -->\n",
      "\n",
      "You can modify lists by assigning a new value to an existing index or by using methods like `append()` and `insert()`.\n",
      "\n",
      "Here is an example of modifying a list:\n",
      "\n",
      "```python\n",
      "# Create a list of strings\n",
      "fruits = ['apple', 'banana', 'cherry']\n",
      "\n",
      "# Assign a new value to an existing index\n",
      "fruits[0] = 'orange'\n",
      "print(fruits)  # Output: ['orange', 'banana', 'cherry']\n",
      "\n",
      "# Append a new element to the end of the list\n",
      "fruits.append('grape')\n",
      "print(fruits)  # Output: ['orange', 'banana', 'cherry', 'grape']\n",
      "\n",
      "# Insert a new element at a specific index\n",
      "fruits.insert(1, 'mango')\n",
      "print(fruits)  # Output: ['orange', 'mango', 'banana', 'cherry', 'grape']\n",
      "```\n",
      "\n",
      "### List Methods <!-- [list-methods] -->\n",
      "\n",
      "Python provides several methods for working with lists. Here are a few examples:\n",
      "\n",
      "*   `append()`: Adds a new element to the end of the list.\n",
      "*   `insert()`: Inserts a new element at a specific index.\n",
      "*   `remove()`: Removes the first occurrence of a specified element.\n",
      "*   `sort()`: Sorts the list in ascending order.\n",
      "*   `reverse()`: Reverses the order of the list.\n",
      "\n",
      "Here is an example of using list methods:\n",
      "\n",
      "```python\n",
      "# Create a list of strings\n",
      "fruits = ['apple', 'banana', 'cherry']\n",
      "\n",
      "# Append a new element to the end of the list\n",
      "fruits.append('grape')\n",
      "print(fruits)  # Output: ['apple', 'banana', 'cherry', 'grape']\n",
      "\n",
      "# Remove the first occurrence of a specified element\n",
      "fruits.remove('banana')\n",
      "print(fruits)  # Output: ['apple', 'cherry', 'grape']\n",
      "\n",
      "# Sort the list in ascending order\n",
      "fruits.sort()\n",
      "print(fruits)  # Output: ['apple', 'cherry', 'grape']\n",
      "\n",
      "# Reverse the order of the list\n",
      "fruits.reverse()\n",
      "print(fruits)  # Output: ['grape', 'cherry', 'apple']\n",
      "```\n",
      "\n",
      "### List Comprehensions <!-- [list-comprehensions] -->\n",
      "\n",
      "List comprehensions are a concise way to create lists. They consist of brackets containing an expression followed by a `for` clause, then zero or more `for` or `if` clauses. The result is a new list resulting from evaluating the expression in the context of the `for` and `if` clauses which follow it.\n",
      "\n",
      "Here is an example of using list comprehensions:\n",
      "\n",
      "```python\n",
      "# Create a list of squares\n",
      "squares = [x**2 for x in range(10)]\n",
      "print(squares)  # Output: [0, 1, 4, 9, 16, 25, 36, 49, 64, 81]\n",
      "\n",
      "# Create a list of even numbers\n",
      "even_numbers = [x for x in range(10) if x % 2 == 0]\n",
      "print(even_numbers)  # Output: [0, 2, 4, 6, 8]\n",
      "```\n",
      "\n",
      "### Conclusion <!-- [conclusion] -->\n",
      "\n",
      "In this tutorial, we have covered the basics of lists in Python. We have learned how to create lists, access and modify elements, use list methods, and create lists using list comprehensions. With practice, you will become proficient in using lists to solve problems and write efficient code.\n"
     ]
    }
   ],
   "source": [
    "print(content_generation_response)"
   ]
  },
  {
   "cell_type": "code",
   "execution_count": 94,
   "metadata": {},
   "outputs": [
    {
     "data": {
      "text/markdown": [
       " \n",
       "Lists in Python\n",
       "================\n",
       "\n",
       "### What are Lists in Python? <!-- [list-definition] -->\n",
       "\n",
       "In Python, a list is a collection of items that can be of any data type, including strings, integers, floats, and other lists. Lists are defined by placing values between square brackets `[]`. Lists are ordered, meaning that the order of the items in the list matters.\n",
       "\n",
       "### Creating a List <!-- [creating-list] -->\n",
       "\n",
       "You can create a list by placing values between square brackets `[]`. Here is an example of creating a list:\n",
       "\n",
       "```python\n",
       "# Create a list of strings\n",
       "fruits = ['apple', 'banana', 'cherry']\n",
       "\n",
       "# Create a list of integers\n",
       "numbers = [1, 2, 3, 4, 5]\n",
       "\n",
       "# Create a list of mixed data types\n",
       "mixed_list = ['apple', 1, 2.5, True]\n",
       "```\n",
       "\n",
       "### Indexing and Slicing Lists <!-- [indexing-slicing] -->\n",
       "\n",
       "You can access individual elements in a list by their index. The index of the first element is 0, the index of the second element is 1, and so on. You can also use negative indices to access elements from the end of the list.\n",
       "\n",
       "Here is an example of indexing and slicing a list:\n",
       "\n",
       "```python\n",
       "# Create a list of strings\n",
       "fruits = ['apple', 'banana', 'cherry']\n",
       "\n",
       "# Access the first element\n",
       "print(fruits[0])  # Output: apple\n",
       "\n",
       "# Access the last element\n",
       "print(fruits[-1])  # Output: cherry\n",
       "\n",
       "# Access a slice of the list\n",
       "print(fruits[1:3])  # Output: ['banana', 'cherry']\n",
       "```\n",
       "\n",
       "### Modifying Lists <!-- [modifying-lists] -->\n",
       "\n",
       "You can modify lists by assigning a new value to an existing index or by using methods like `append()` and `insert()`.\n",
       "\n",
       "Here is an example of modifying a list:\n",
       "\n",
       "```python\n",
       "# Create a list of strings\n",
       "fruits = ['apple', 'banana', 'cherry']\n",
       "\n",
       "# Assign a new value to an existing index\n",
       "fruits[0] = 'orange'\n",
       "print(fruits)  # Output: ['orange', 'banana', 'cherry']\n",
       "\n",
       "# Append a new element to the end of the list\n",
       "fruits.append('grape')\n",
       "print(fruits)  # Output: ['orange', 'banana', 'cherry', 'grape']\n",
       "\n",
       "# Insert a new element at a specific index\n",
       "fruits.insert(1, 'mango')\n",
       "print(fruits)  # Output: ['orange', 'mango', 'banana', 'cherry', 'grape']\n",
       "```\n",
       "\n",
       "### List Methods <!-- [list-methods] -->\n",
       "\n",
       "Python provides several methods for working with lists. Here are a few examples:\n",
       "\n",
       "*   `append()`: Adds a new element to the end of the list.\n",
       "*   `insert()`: Inserts a new element at a specific index.\n",
       "*   `remove()`: Removes the first occurrence of a specified element.\n",
       "*   `sort()`: Sorts the list in ascending order.\n",
       "*   `reverse()`: Reverses the order of the list.\n",
       "\n",
       "Here is an example of using list methods:\n",
       "\n",
       "```python\n",
       "# Create a list of strings\n",
       "fruits = ['apple', 'banana', 'cherry']\n",
       "\n",
       "# Append a new element to the end of the list\n",
       "fruits.append('grape')\n",
       "print(fruits)  # Output: ['apple', 'banana', 'cherry', 'grape']\n",
       "\n",
       "# Remove the first occurrence of a specified element\n",
       "fruits.remove('banana')\n",
       "print(fruits)  # Output: ['apple', 'cherry', 'grape']\n",
       "\n",
       "# Sort the list in ascending order\n",
       "fruits.sort()\n",
       "print(fruits)  # Output: ['apple', 'cherry', 'grape']\n",
       "\n",
       "# Reverse the order of the list\n",
       "fruits.reverse()\n",
       "print(fruits)  # Output: ['grape', 'cherry', 'apple']\n",
       "```\n",
       "\n",
       "### List Comprehensions <!-- [list-comprehensions] -->\n",
       "\n",
       "List comprehensions are a concise way to create lists. They consist of brackets containing an expression followed by a `for` clause, then zero or more `for` or `if` clauses. The result is a new list resulting from evaluating the expression in the context of the `for` and `if` clauses which follow it.\n",
       "\n",
       "Here is an example of using list comprehensions:\n",
       "\n",
       "```python\n",
       "# Create a list of squares\n",
       "squares = [x**2 for x in range(10)]\n",
       "print(squares)  # Output: [0, 1, 4, 9, 16, 25, 36, 49, 64, 81]\n",
       "\n",
       "# Create a list of even numbers\n",
       "even_numbers = [x for x in range(10) if x % 2 == 0]\n",
       "print(even_numbers)  # Output: [0, 2, 4, 6, 8]\n",
       "```\n",
       "\n",
       "### Conclusion <!-- [conclusion] -->\n",
       "\n",
       "In this tutorial, we have covered the basics of lists in Python. We have learned how to create lists, access and modify elements, use list methods, and create lists using list comprehensions. With practice, you will become proficient in using lists to solve problems and write efficient code."
      ],
      "text/plain": [
       "<IPython.core.display.Markdown object>"
      ]
     },
     "metadata": {},
     "output_type": "display_data"
    }
   ],
   "source": [
    "from IPython.display import display, Markdown, Latex\n",
    "display(Markdown(content_generation_response))"
   ]
  },
  {
   "cell_type": "code",
   "execution_count": 95,
   "metadata": {},
   "outputs": [],
   "source": [
    "question_generation_prompt = \"\"\"\n",
    "You are an invigilator AI. Your task is to generate questions based on content that you have been provided below:\n",
    "\n",
    "{content}\n",
    "\n",
    "The input contains subtopics that are outlined using markdown heading sytnax. They also have hidden tags inside Markdown comments.\n",
    "Make one question per subtopic in the input unless the subtopic is really vast and it requires more than one input.\n",
    "\n",
    "Generate factual questions that learner can get right or wrong.\n",
    "\n",
    "Format the output as given below: \n",
    "\n",
    "{{\n",
    "    \"questions\": [\n",
    "        {{\n",
    "            \"question\": \"text of question 1\",\n",
    "            \"tag\": \"tag for question 1\",\n",
    "            \"answer\": \"answer of question 1\"\n",
    "        }},\n",
    "        {{\n",
    "            \"question\": \"text of question 2\",\n",
    "            \"tag\": \"tag for question 1\",\n",
    "            \"answer\": \"answer of question 2\"\n",
    "        }},\n",
    "        {{\n",
    "            \"question\": \"text of question 3\",\n",
    "            \"tag\": \"tag for question 1\",\n",
    "            \"answer\": \"answer of question 3\"\n",
    "        }}\n",
    "    ]\n",
    "}}\n",
    "\n",
    "\n",
    "Don't give anything in the output besides the JSON. Strictly adhere to the format given above. \n",
    "AI:\n",
    "\"\"\""
   ]
  },
  {
   "cell_type": "code",
   "execution_count": 96,
   "metadata": {},
   "outputs": [],
   "source": [
    "question_generation_prompt_template = ChatPromptTemplate.from_template(question_generation_prompt)\n",
    "question_generation_chain = question_generation_prompt_template | llm | StrOutputParser()\n",
    "\n",
    "question_generation_response = question_generation_chain.invoke({\"content\": content_generation_response})"
   ]
  },
  {
   "cell_type": "code",
   "execution_count": 97,
   "metadata": {},
   "outputs": [
    {
     "data": {
      "text/plain": [
       "'{\\n    \"questions\": [\\n        {\\n            \"question\": \"What is a list in Python?\",\\n            \"tag\": \"list-definition\",\\n            \"answer\": \"A list is a collection of items that can be of any data type, including strings, integers, floats, and other lists.\"\\n        },\\n        {\\n            \"question\": \"How do you create a list in Python?\",\\n            \"tag\": \"creating-list\",\\n            \"answer\": \"You can create a list by placing values between square brackets []\"\\n        },\\n        {\\n            \"question\": \"How do you access individual elements in a list?\",\\n            \"tag\": \"indexing-slicing\",\\n            \"answer\": \"You can access individual elements in a list by their index. The index of the first element is 0, the index of the second element is 1, and so on.\"\\n        },\\n        {\\n            \"question\": \"How do you modify lists in Python?\",\\n            \"tag\": \"modifying-lists\",\\n            \"answer\": \"You can modify lists by assigning a new value to an existing index or by using methods like append() and insert().\"\\n        },\\n        {\\n            \"question\": \"What are some common list methods in Python?\",\\n            \"tag\": \"list-methods\",\\n            \"answer\": \"Some common list methods in Python include append(), insert(), remove(), sort(), and reverse().\"\\n        },\\n        {\\n            \"question\": \"What is a list comprehension in Python?\",\\n            \"tag\": \"list-comprehensions\",\\n            \"answer\": \"A list comprehension is a concise way to create lists. It consists of brackets containing an expression followed by a for clause, then zero or more for or if clauses.\"\\n        }\\n    ]\\n}'"
      ]
     },
     "execution_count": 97,
     "metadata": {},
     "output_type": "execute_result"
    }
   ],
   "source": [
    "question_generation_response"
   ]
  },
  {
   "cell_type": "code",
   "execution_count": 98,
   "metadata": {},
   "outputs": [
    {
     "name": "stderr",
     "output_type": "stream",
     "text": [
      "/opt/homebrew/anaconda3/envs/hackathon/lib/python3.12/site-packages/IPython/core/display.py:618: UserWarning: JSON expects JSONable dict or list, not JSON strings\n",
      "  warnings.warn(\"JSON expects JSONable dict or list, not JSON strings\")\n"
     ]
    },
    {
     "data": {
      "application/json": {
       "questions": [
        {
         "answer": "A list is a collection of items that can be of any data type, including strings, integers, floats, and other lists.",
         "question": "What is a list in Python?",
         "tag": "list-definition"
        },
        {
         "answer": "You can create a list by placing values between square brackets []",
         "question": "How do you create a list in Python?",
         "tag": "creating-list"
        },
        {
         "answer": "You can access individual elements in a list by their index. The index of the first element is 0, the index of the second element is 1, and so on.",
         "question": "How do you access individual elements in a list?",
         "tag": "indexing-slicing"
        },
        {
         "answer": "You can modify lists by assigning a new value to an existing index or by using methods like append() and insert().",
         "question": "How do you modify lists in Python?",
         "tag": "modifying-lists"
        },
        {
         "answer": "Some common list methods in Python include append(), insert(), remove(), sort(), and reverse().",
         "question": "What are some common list methods in Python?",
         "tag": "list-methods"
        },
        {
         "answer": "A list comprehension is a concise way to create lists. It consists of brackets containing an expression followed by a for clause, then zero or more for or if clauses.",
         "question": "What is a list comprehension in Python?",
         "tag": "list-comprehensions"
        }
       ]
      },
      "text/plain": [
       "<IPython.core.display.JSON object>"
      ]
     },
     "execution_count": 98,
     "metadata": {
      "application/json": {
       "expanded": false,
       "root": "root"
      }
     },
     "output_type": "execute_result"
    }
   ],
   "source": [
    "from IPython.display import JSON\n",
    "JSON(question_generation_response)\n"
   ]
  },
  {
   "cell_type": "code",
   "execution_count": 100,
   "metadata": {},
   "outputs": [],
   "source": [
    "question_response_user_input = '{\\n    \"questions\": [\\n        {\\n            \"question\": \"What is a list in Python?\",\\n            \"tag\": \"list-definition\",\\n            \"answer\": \"A list is a collection of items that can be of any data type, including strings, integers, floats, and other lists.\",\\n            \"user_input\": \"A list is like a box to store multiple items.\"\\n        },\\n        {\\n            \"question\": \"How do you create a list in Python?\",\\n            \"tag\": \"creating-list\",\\n            \"answer\": \"You can create a list by placing values between square brackets []\",\\n            \"user_input\": \"Use square brackets to make a list.\"\\n        },\\n        {\\n            \"question\": \"How do you access individual elements in a list?\",\\n            \"tag\": \"indexing-slicing\",\\n            \"answer\": \"You can access individual elements in a list by their index. The index of the first element is 0, the index of the second element is 1, and so on.\",\\n            \"user_input\": \"By using indexes, starting from 0.\"\\n        },\\n        {\\n            \"question\": \"How do you modify lists in Python?\",\\n            \"tag\": \"modifying-lists\",\\n            \"answer\": \"You can modify lists by assigning a new value to an existing index or by using methods like append() and insert().\",\\n            \"user_input\": \"Lists can be modified by changing values at specific indexes.\"\\n        },\\n        {\\n            \"question\": \"What are some common list methods in Python?\",\\n            \"tag\": \"list-methods\",\\n            \"answer\": \"Some common list methods in Python include append(), insert(), remove(), sort(), and reverse().\",\\n            \"user_input\": \"Not sure, maybe list()?\"\\n        },\\n        {\\n            \"question\": \"What is a list comprehension in Python?\",\\n            \"tag\": \"list-comprehensions\",\\n            \"answer\": \"A list comprehension is a concise way to create lists. It consists of brackets containing an expression followed by a for clause, then zero or more for or if clauses.\",\\n            \"user_input\": \"It is a shortcut to make lists.\"\\n        }\\n    ]\\n}'\n",
    "\n"
   ]
  },
  {
   "cell_type": "code",
   "execution_count": 101,
   "metadata": {},
   "outputs": [],
   "source": [
    "evaluation_prompt = \"\"\"\n",
    "You are an evaluator AI. \n",
    "Your task is to take a question, compare its answer and user_input and determine the feedback to provide for the question.\n",
    "\n",
    "You are also going to extract and provide areas of development (AOD) for the learner. \n",
    "In areas of development, provide the tag where the learner needs to improve and a small description of what needs to improve specifically. \n",
    "Put a tag there only if that tag contains a question with status 0.\n",
    "\n",
    "The list of questions along with the user_input for each question is given here:\n",
    "{user_input}\n",
    "\n",
    "Format the output as given below: \n",
    "\n",
    "{{\n",
    "    \"questions\": [\n",
    "        {{\n",
    "            \"question\": \"text of question 1\",\n",
    "            \"tag\": \"tag of question 1\",\n",
    "            \"user_input\": \"answer of question 1\",\n",
    "            \"status\": \"1 if answer is correct and 0 if it is incorrect\"\n",
    "        }},\n",
    "        {{\n",
    "            \"question\": \"text of question 2\",\n",
    "            \"tag\": \"tag of question 1\",\n",
    "            \"user_input\": \"answer of question 2\",\n",
    "            \"status\": \"1 if answer is correct and 0 if it is incorrect\"\n",
    "        }},\n",
    "        {{\n",
    "            \"question\": \"text of question 3\",\n",
    "            \"tag\": \"tag of question 1\",\n",
    "            \"user_input\": \"answer of question 3\",\n",
    "            \"status\": \"1 if answer is correct and 0 if it is incorrect\"\n",
    "        }}\n",
    "    ],\n",
    "    \"AOD\": [\n",
    "    {{\n",
    "      \"tag\": \"tag of question\"\n",
    "      \"description\": \"description of area of development for this tag\"  \n",
    "        }}\n",
    "    ]\n",
    "}}\n",
    "\n",
    "\n",
    "Don't give anything in the output besides the JSON. Strictly adhere to the format given above. \n",
    "AI:\n",
    "\"\"\""
   ]
  },
  {
   "cell_type": "code",
   "execution_count": 102,
   "metadata": {},
   "outputs": [],
   "source": [
    "from langchain_core.output_parsers import JsonOutputParser\n",
    "evaluation_prompt_template = ChatPromptTemplate.from_template(evaluation_prompt)\n",
    "evaluation_chain = evaluation_prompt_template | llm | JsonOutputParser()\n",
    "\n",
    "evaluation_response = evaluation_chain.invoke({\"user_input\": question_response_user_input})"
   ]
  },
  {
   "cell_type": "code",
   "execution_count": 103,
   "metadata": {},
   "outputs": [],
   "source": [
    "AOD = evaluation_response[\"AOD\"]"
   ]
  },
  {
   "cell_type": "code",
   "execution_count": 104,
   "metadata": {},
   "outputs": [
    {
     "data": {
      "application/json": {
       "AOD": [
        {
         "description": "Provide a clear definition of what a list is in Python, including its ability to store different data types.",
         "tag": "list-definition"
        },
        {
         "description": "Explain how to modify lists using methods like append() and insert().",
         "tag": "modifying-lists"
        },
        {
         "description": "List some common list methods in Python, such as append(), insert(), remove(), sort(), and reverse().",
         "tag": "list-methods"
        },
        {
         "description": "Define what a list comprehension is and provide an example of its syntax and usage.",
         "tag": "list-comprehensions"
        }
       ],
       "questions": [
        {
         "question": "What is a list in Python?",
         "status": "0",
         "tag": "list-definition",
         "user_input": "A list is like a box to store multiple items."
        },
        {
         "question": "How do you create a list in Python?",
         "status": "1",
         "tag": "creating-list",
         "user_input": "Use square brackets to make a list."
        },
        {
         "question": "How do you access individual elements in a list?",
         "status": "1",
         "tag": "indexing-slicing",
         "user_input": "By using indexes, starting from 0."
        },
        {
         "question": "How do you modify lists in Python?",
         "status": "0",
         "tag": "modifying-lists",
         "user_input": "Lists can be modified by changing values at specific indexes."
        },
        {
         "question": "What are some common list methods in Python?",
         "status": "0",
         "tag": "list-methods",
         "user_input": "Not sure, maybe list()?"
        },
        {
         "question": "What is a list comprehension in Python?",
         "status": "0",
         "tag": "list-comprehensions",
         "user_input": "It is a shortcut to make lists."
        }
       ]
      },
      "text/plain": [
       "<IPython.core.display.JSON object>"
      ]
     },
     "execution_count": 104,
     "metadata": {
      "application/json": {
       "expanded": false,
       "root": "root"
      }
     },
     "output_type": "execute_result"
    }
   ],
   "source": [
    "from IPython.display import JSON\n",
    "JSON(evaluation_response)"
   ]
  },
  {
   "cell_type": "code",
   "execution_count": 105,
   "metadata": {},
   "outputs": [],
   "source": [
    "content_recreation_prompt = \"\"\"\n",
    "You are a knowledgeable content writer who writes things for educational purposes which learners use to learn things. \n",
    "The content that you create has many qualities which ensure learning for learners:\n",
    "1. The writing style is clear, concise, and direct.\n",
    "2. Sentences and paragraphs are brief and to the point.\n",
    "3. A supportive second person tone is used.\n",
    "4. Different levels of headings are used to organize content.\n",
    "5. Bold and italic are used sparingly only to emphasize certain aspects.\n",
    "6. You provide explanations with the help of concrete examples, code snippets, etc.\n",
    "\n",
    "Your task is to analyse the areas of development of a learner who went through some content. \n",
    "\n",
    "The content is given here: \n",
    "{content}.\n",
    "\n",
    "The areas of development are given here:\n",
    "{AOD}\n",
    "\n",
    "Focus on the tags which need improvement from the content and regenerate content related to those topics. \n",
    "This time go into more detail and use more examples. \n",
    "\n",
    "1. Markdown syntax is correct.\n",
    "2. Code blocks are formatted correctly to ensure syntax highlighting.\n",
    "3. Add tags in the headings in the markdown and comment out the tag using Markdown's comment syntax.\n",
    "\n",
    "Add a personalized message in the beginning saying that this content is generated to focus on your areas of development that were determined by the quiz that you just attempted.\"\"\""
   ]
  },
  {
   "cell_type": "code",
   "execution_count": 106,
   "metadata": {},
   "outputs": [],
   "source": [
    "content_recreation_prompt_template = ChatPromptTemplate.from_template(\n",
    "    content_recreation_prompt\n",
    "    )\n",
    "content_recreation_chain = content_recreation_prompt_template | llm | StrOutputParser()\n",
    "\n",
    "content_recreation_response = content_recreation_chain.invoke({\"content\": content_generation_response, \"AOD\": AOD})"
   ]
  },
  {
   "cell_type": "code",
   "execution_count": 107,
   "metadata": {},
   "outputs": [
    {
     "data": {
      "text/plain": [
       "\" \\n\\nThis content is generated to focus on your areas of development that were determined by the quiz that you just attempted. Please review the following content carefully to improve your understanding of lists in Python.\\n\\nLists in Python\\n================\\n\\n### What are Lists in Python? <!-- [list-definition] -->\\n\\nIn Python, a list is a collection of items that can be of any data type, including strings, integers, floats, and other lists. Lists are defined by placing values between square brackets `[]`. Lists are ordered, meaning that the order of the items in the list matters.\\n\\nFor example, the following is a list of strings:\\n\\n```python\\nfruits = ['apple', 'banana', 'cherry']\\n```\\n\\nThis list contains three elements: 'apple', 'banana', and 'cherry'. The order of these elements matters, so `fruits[0]` would refer to 'apple', `fruits[1]` would refer to 'banana', and `fruits[2]` would refer to 'cherry'.\\n\\nLists can also contain different data types. For example:\\n\\n```python\\nmixed_list = ['apple', 1, 2.5, True]\\n```\\n\\nThis list contains a string, an integer, a float, and a boolean value.\\n\\n### Modifying Lists <!-- [modifying-lists] -->\\n\\nYou can modify lists by assigning a new value to an existing index or by using methods like `append()` and `insert()`.\\n\\nFor example, let's say you have the following list:\\n\\n```python\\nfruits = ['apple', 'banana', 'cherry']\\n```\\n\\nYou can modify the first element of the list by assigning a new value to `fruits[0]`:\\n\\n```python\\nfruits[0] = 'orange'\\nprint(fruits)  # Output: ['orange', 'banana', 'cherry']\\n```\\n\\nYou can also use the `append()` method to add a new element to the end of the list:\\n\\n```python\\nfruits.append('grape')\\nprint(fruits)  # Output: ['orange', 'banana', 'cherry', 'grape']\\n```\\n\\nThe `insert()` method allows you to insert a new element at a specific index:\\n\\n```python\\nfruits.insert(1, 'mango')\\nprint(fruits)  # Output: ['orange', 'mango', 'banana', 'cherry', 'grape']\\n```\\n\\n### List Methods <!-- [list-methods] -->\\n\\nPython provides several methods for working with lists. Here are a few examples:\\n\\n*   `append()`: Adds a new element to the end of the list.\\n*   `insert()`: Inserts a new element at a specific index.\\n*   `remove()`: Removes the first occurrence of a specified element.\\n*   `sort()`: Sorts the list in ascending order.\\n*   `reverse()`: Reverses the order of the list.\\n\\nFor example, let's say you have the following list:\\n\\n```python\\nfruits = ['apple', 'banana', 'cherry']\\n```\\n\\nYou can use the `append()` method to add a new element to the end of the list:\\n\\n```python\\nfruits.append('grape')\\nprint(fruits)  # Output: ['apple', 'banana', 'cherry', 'grape']\\n```\\n\\nYou can use the `remove()` method to remove the first occurrence of a specified element:\\n\\n```python\\nfruits.remove('banana')\\nprint(fruits)  # Output: ['apple', 'cherry', 'grape']\\n```\\n\\nYou can use the `sort()` method to sort the list in ascending order:\\n\\n```python\\nfruits.sort()\\nprint(fruits)  # Output: ['apple', 'cherry', 'grape']\\n```\\n\\nYou can use the `reverse()` method to reverse the order of the list:\\n\\n```python\\nfruits.reverse()\\nprint(fruits)  # Output: ['grape', 'cherry', 'apple']\\n```\\n\\n### List Comprehensions <!-- [list-comprehensions] -->\\n\\nList comprehensions are a concise way to create lists. They consist of brackets containing an expression followed by a `for` clause, then zero or more `for` or `if` clauses. The result is a new list resulting from evaluating the expression in the context of the `for` and `if` clauses which follow it.\\n\\nFor example, let's say you want to create a list of squares:\\n\\n```python\\nsquares = [x**2 for x in range(10)]\\nprint(squares)  # Output: [0, 1, 4, 9, 16, 25, 36, 49, 64, 81]\\n```\\n\\nThis list comprehension is equivalent to the following code:\\n\\n```python\\nsquares = []\\nfor x in range(10):\\n    squares.append(x**2)\\nprint(squares)  # Output: [0, 1, 4, 9, 16, 25, 36, 49, 64, 81]\\n```\\n\\nYou can also use list comprehensions to create lists with conditions. For example, let's say you want to create a list of even numbers:\\n\\n```python\\neven_numbers = [x for x in range(10) if x % 2 == 0]\\nprint(even_numbers)  # Output: [0, 2, 4, 6, 8]\\n```\\n\\nThis list comprehension is equivalent to the following code:\\n\\n```python\\neven_numbers = []\\nfor x in range(10):\\n    if x % 2 == 0:\\n        even_numbers.append(x)\\nprint(even_numbers)  # Output: [0, 2, 4, 6, 8]\\n```\""
      ]
     },
     "execution_count": 107,
     "metadata": {},
     "output_type": "execute_result"
    }
   ],
   "source": [
    "content_recreation_response"
   ]
  },
  {
   "cell_type": "code",
   "execution_count": 108,
   "metadata": {},
   "outputs": [
    {
     "data": {
      "text/markdown": [
       " \n",
       "\n",
       "This content is generated to focus on your areas of development that were determined by the quiz that you just attempted. Please review the following content carefully to improve your understanding of lists in Python.\n",
       "\n",
       "Lists in Python\n",
       "================\n",
       "\n",
       "### What are Lists in Python? <!-- [list-definition] -->\n",
       "\n",
       "In Python, a list is a collection of items that can be of any data type, including strings, integers, floats, and other lists. Lists are defined by placing values between square brackets `[]`. Lists are ordered, meaning that the order of the items in the list matters.\n",
       "\n",
       "For example, the following is a list of strings:\n",
       "\n",
       "```python\n",
       "fruits = ['apple', 'banana', 'cherry']\n",
       "```\n",
       "\n",
       "This list contains three elements: 'apple', 'banana', and 'cherry'. The order of these elements matters, so `fruits[0]` would refer to 'apple', `fruits[1]` would refer to 'banana', and `fruits[2]` would refer to 'cherry'.\n",
       "\n",
       "Lists can also contain different data types. For example:\n",
       "\n",
       "```python\n",
       "mixed_list = ['apple', 1, 2.5, True]\n",
       "```\n",
       "\n",
       "This list contains a string, an integer, a float, and a boolean value.\n",
       "\n",
       "### Modifying Lists <!-- [modifying-lists] -->\n",
       "\n",
       "You can modify lists by assigning a new value to an existing index or by using methods like `append()` and `insert()`.\n",
       "\n",
       "For example, let's say you have the following list:\n",
       "\n",
       "```python\n",
       "fruits = ['apple', 'banana', 'cherry']\n",
       "```\n",
       "\n",
       "You can modify the first element of the list by assigning a new value to `fruits[0]`:\n",
       "\n",
       "```python\n",
       "fruits[0] = 'orange'\n",
       "print(fruits)  # Output: ['orange', 'banana', 'cherry']\n",
       "```\n",
       "\n",
       "You can also use the `append()` method to add a new element to the end of the list:\n",
       "\n",
       "```python\n",
       "fruits.append('grape')\n",
       "print(fruits)  # Output: ['orange', 'banana', 'cherry', 'grape']\n",
       "```\n",
       "\n",
       "The `insert()` method allows you to insert a new element at a specific index:\n",
       "\n",
       "```python\n",
       "fruits.insert(1, 'mango')\n",
       "print(fruits)  # Output: ['orange', 'mango', 'banana', 'cherry', 'grape']\n",
       "```\n",
       "\n",
       "### List Methods <!-- [list-methods] -->\n",
       "\n",
       "Python provides several methods for working with lists. Here are a few examples:\n",
       "\n",
       "*   `append()`: Adds a new element to the end of the list.\n",
       "*   `insert()`: Inserts a new element at a specific index.\n",
       "*   `remove()`: Removes the first occurrence of a specified element.\n",
       "*   `sort()`: Sorts the list in ascending order.\n",
       "*   `reverse()`: Reverses the order of the list.\n",
       "\n",
       "For example, let's say you have the following list:\n",
       "\n",
       "```python\n",
       "fruits = ['apple', 'banana', 'cherry']\n",
       "```\n",
       "\n",
       "You can use the `append()` method to add a new element to the end of the list:\n",
       "\n",
       "```python\n",
       "fruits.append('grape')\n",
       "print(fruits)  # Output: ['apple', 'banana', 'cherry', 'grape']\n",
       "```\n",
       "\n",
       "You can use the `remove()` method to remove the first occurrence of a specified element:\n",
       "\n",
       "```python\n",
       "fruits.remove('banana')\n",
       "print(fruits)  # Output: ['apple', 'cherry', 'grape']\n",
       "```\n",
       "\n",
       "You can use the `sort()` method to sort the list in ascending order:\n",
       "\n",
       "```python\n",
       "fruits.sort()\n",
       "print(fruits)  # Output: ['apple', 'cherry', 'grape']\n",
       "```\n",
       "\n",
       "You can use the `reverse()` method to reverse the order of the list:\n",
       "\n",
       "```python\n",
       "fruits.reverse()\n",
       "print(fruits)  # Output: ['grape', 'cherry', 'apple']\n",
       "```\n",
       "\n",
       "### List Comprehensions <!-- [list-comprehensions] -->\n",
       "\n",
       "List comprehensions are a concise way to create lists. They consist of brackets containing an expression followed by a `for` clause, then zero or more `for` or `if` clauses. The result is a new list resulting from evaluating the expression in the context of the `for` and `if` clauses which follow it.\n",
       "\n",
       "For example, let's say you want to create a list of squares:\n",
       "\n",
       "```python\n",
       "squares = [x**2 for x in range(10)]\n",
       "print(squares)  # Output: [0, 1, 4, 9, 16, 25, 36, 49, 64, 81]\n",
       "```\n",
       "\n",
       "This list comprehension is equivalent to the following code:\n",
       "\n",
       "```python\n",
       "squares = []\n",
       "for x in range(10):\n",
       "    squares.append(x**2)\n",
       "print(squares)  # Output: [0, 1, 4, 9, 16, 25, 36, 49, 64, 81]\n",
       "```\n",
       "\n",
       "You can also use list comprehensions to create lists with conditions. For example, let's say you want to create a list of even numbers:\n",
       "\n",
       "```python\n",
       "even_numbers = [x for x in range(10) if x % 2 == 0]\n",
       "print(even_numbers)  # Output: [0, 2, 4, 6, 8]\n",
       "```\n",
       "\n",
       "This list comprehension is equivalent to the following code:\n",
       "\n",
       "```python\n",
       "even_numbers = []\n",
       "for x in range(10):\n",
       "    if x % 2 == 0:\n",
       "        even_numbers.append(x)\n",
       "print(even_numbers)  # Output: [0, 2, 4, 6, 8]\n",
       "```"
      ],
      "text/plain": [
       "<IPython.core.display.Markdown object>"
      ]
     },
     "metadata": {},
     "output_type": "display_data"
    }
   ],
   "source": [
    "from IPython.display import display, Markdown, Latex\n",
    "display(Markdown(content_recreation_response))"
   ]
  },
  {
   "cell_type": "code",
   "execution_count": 110,
   "metadata": {},
   "outputs": [
    {
     "data": {
      "text/markdown": [
       " \n",
       "Lists in Python\n",
       "================\n",
       "\n",
       "### What are Lists in Python? <!-- [list-definition] -->\n",
       "\n",
       "In Python, a list is a collection of items that can be of any data type, including strings, integers, floats, and other lists. Lists are defined by placing values between square brackets `[]`. Lists are ordered, meaning that the order of the items in the list matters.\n",
       "\n",
       "### Creating a List <!-- [creating-list] -->\n",
       "\n",
       "You can create a list by placing values between square brackets `[]`. Here is an example of creating a list:\n",
       "\n",
       "```python\n",
       "# Create a list of strings\n",
       "fruits = ['apple', 'banana', 'cherry']\n",
       "\n",
       "# Create a list of integers\n",
       "numbers = [1, 2, 3, 4, 5]\n",
       "\n",
       "# Create a list of mixed data types\n",
       "mixed_list = ['apple', 1, 2.5, True]\n",
       "```\n",
       "\n",
       "### Indexing and Slicing Lists <!-- [indexing-slicing] -->\n",
       "\n",
       "You can access individual elements in a list by their index. The index of the first element is 0, the index of the second element is 1, and so on. You can also use negative indices to access elements from the end of the list.\n",
       "\n",
       "Here is an example of indexing and slicing a list:\n",
       "\n",
       "```python\n",
       "# Create a list of strings\n",
       "fruits = ['apple', 'banana', 'cherry']\n",
       "\n",
       "# Access the first element\n",
       "print(fruits[0])  # Output: apple\n",
       "\n",
       "# Access the last element\n",
       "print(fruits[-1])  # Output: cherry\n",
       "\n",
       "# Access a slice of the list\n",
       "print(fruits[1:3])  # Output: ['banana', 'cherry']\n",
       "```\n",
       "\n",
       "### Modifying Lists <!-- [modifying-lists] -->\n",
       "\n",
       "You can modify lists by assigning a new value to an existing index or by using methods like `append()` and `insert()`.\n",
       "\n",
       "Here is an example of modifying a list:\n",
       "\n",
       "```python\n",
       "# Create a list of strings\n",
       "fruits = ['apple', 'banana', 'cherry']\n",
       "\n",
       "# Assign a new value to an existing index\n",
       "fruits[0] = 'orange'\n",
       "print(fruits)  # Output: ['orange', 'banana', 'cherry']\n",
       "\n",
       "# Append a new element to the end of the list\n",
       "fruits.append('grape')\n",
       "print(fruits)  # Output: ['orange', 'banana', 'cherry', 'grape']\n",
       "\n",
       "# Insert a new element at a specific index\n",
       "fruits.insert(1, 'mango')\n",
       "print(fruits)  # Output: ['orange', 'mango', 'banana', 'cherry', 'grape']\n",
       "```\n",
       "\n",
       "### List Methods <!-- [list-methods] -->\n",
       "\n",
       "Python provides several methods for working with lists. Here are a few examples:\n",
       "\n",
       "*   `append()`: Adds a new element to the end of the list.\n",
       "*   `insert()`: Inserts a new element at a specific index.\n",
       "*   `remove()`: Removes the first occurrence of a specified element.\n",
       "*   `sort()`: Sorts the list in ascending order.\n",
       "*   `reverse()`: Reverses the order of the list.\n",
       "\n",
       "Here is an example of using list methods:\n",
       "\n",
       "```python\n",
       "# Create a list of strings\n",
       "fruits = ['apple', 'banana', 'cherry']\n",
       "\n",
       "# Append a new element to the end of the list\n",
       "fruits.append('grape')\n",
       "print(fruits)  # Output: ['apple', 'banana', 'cherry', 'grape']\n",
       "\n",
       "# Remove the first occurrence of a specified element\n",
       "fruits.remove('banana')\n",
       "print(fruits)  # Output: ['apple', 'cherry', 'grape']\n",
       "\n",
       "# Sort the list in ascending order\n",
       "fruits.sort()\n",
       "print(fruits)  # Output: ['apple', 'cherry', 'grape']\n",
       "\n",
       "# Reverse the order of the list\n",
       "fruits.reverse()\n",
       "print(fruits)  # Output: ['grape', 'cherry', 'apple']\n",
       "```\n",
       "\n",
       "### List Comprehensions <!-- [list-comprehensions] -->\n",
       "\n",
       "List comprehensions are a concise way to create lists. They consist of brackets containing an expression followed by a `for` clause, then zero or more `for` or `if` clauses. The result is a new list resulting from evaluating the expression in the context of the `for` and `if` clauses which follow it.\n",
       "\n",
       "Here is an example of using list comprehensions:\n",
       "\n",
       "```python\n",
       "# Create a list of squares\n",
       "squares = [x**2 for x in range(10)]\n",
       "print(squares)  # Output: [0, 1, 4, 9, 16, 25, 36, 49, 64, 81]\n",
       "\n",
       "# Create a list of even numbers\n",
       "even_numbers = [x for x in range(10) if x % 2 == 0]\n",
       "print(even_numbers)  # Output: [0, 2, 4, 6, 8]\n",
       "```\n",
       "\n",
       "### Conclusion <!-- [conclusion] -->\n",
       "\n",
       "In this tutorial, we have covered the basics of lists in Python. We have learned how to create lists, access and modify elements, use list methods, and create lists using list comprehensions. With practice, you will become proficient in using lists to solve problems and write efficient code."
      ],
      "text/plain": [
       "<IPython.core.display.Markdown object>"
      ]
     },
     "metadata": {},
     "output_type": "display_data"
    }
   ],
   "source": [
    "from IPython.display import display, Markdown, Latex\n",
    "display(Markdown(content_generation_response))"
   ]
  },
  {
   "cell_type": "code",
   "execution_count": null,
   "metadata": {},
   "outputs": [],
   "source": []
  }
 ],
 "metadata": {
  "kernelspec": {
   "display_name": "hackathon",
   "language": "python",
   "name": "python3"
  },
  "language_info": {
   "codemirror_mode": {
    "name": "ipython",
    "version": 3
   },
   "file_extension": ".py",
   "mimetype": "text/x-python",
   "name": "python",
   "nbconvert_exporter": "python",
   "pygments_lexer": "ipython3",
   "version": "3.12.2"
  }
 },
 "nbformat": 4,
 "nbformat_minor": 2
}
